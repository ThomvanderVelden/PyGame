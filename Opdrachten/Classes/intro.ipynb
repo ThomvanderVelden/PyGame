{
  "cells": [
    {
      "cell_type": "markdown",
      "metadata": {},
      "source": [
        "# Inleiding Classes in Python\n",
        "\n",
        "Welkom bij deze notebook! In deze notebook ga je leren over **classes** in Python. Classes zijn een fundamenteel concept in programmeren en zullen je helpen om je Pygame-projecten beter te structureren en te organiseren."
      ]
    },
    {
      "cell_type": "markdown",
      "metadata": {},
      "source": [
        "## Wat zijn Classes?\n",
        "\n",
        "Link video classes: https://youtu.be/f0TrMH9s-VE?si=L2S1broYWz6NRrt-\n",
        "\n",
        "Een **class** is een sjabloon voor het maken van objecten. Een object kan gezien worden als een specifieke instantie van een class. Classes helpen bij het groeperen van gerelateerde functies en gegevens, wat je code overzichtelijker en herbruikbaarder maakt."
      ]
    },
    {
      "cell_type": "markdown",
      "metadata": {},
      "source": [
        "### Waarom Classes Gebruiken?\n",
        "\n",
        "- **Organisatie:** Houd gerelateerde functies en gegevens bij elkaar.\n",
        "- **Herbruikbaarheid:** Hergebruik code door classes te hergebruiken in verschillende projecten.\n",
        "- **Modulariteit:** Maak je code modulair en makkelijker te begrijpen.\n",
        "- **Onderhoudbaarheid:** Eenvoudiger fouten opsporen en code aanpassen."
      ]
    },
    {
      "cell_type": "markdown",
      "metadata": {},
      "source": [
        "## Basisstructuur van een class\n",
        "\n",
        "Laten we beginnen met het creëren van een eenvoudige class."
      ]
    },
    {
      "cell_type": "code",
      "execution_count": null,
      "metadata": {},
      "outputs": [],
      "source": [
        "class Hond:\n",
        "    def __init__(self, naam, leeftijd):\n",
        "        self.naam = naam\n",
        "        self.leeftijd = leeftijd\n",
        "\n",
        "    def blaf(self):\n",
        "        print(f\"{self.naam} zegt: Woef!\")"
      ]
    },
    {
      "cell_type": "markdown",
      "metadata": {},
      "source": [
        "### Uitleg\n",
        "\n",
        "- **`class Hond:`** Dit definieert een nieuwe class genaamd `Hond`.\n",
        "- **`__init__` Methode:** Dit is de constructor die wordt aangeroepen wanneer je een nieuw object van de class maakt. Het initialiseert de attributen van het object.\n",
        "- **Attributen:** `naam` en `leeftijd` zijn eigenschappen van de hond.\n",
        "- **Methode:** `blaf` is een functie die behoort tot de class `Hond`."
      ]
    },
    {
      "cell_type": "markdown",
      "metadata": {},
      "source": [
        "## Een Object Maken\n",
        "\n",
        "Nu we een class hebben, kunnen we er objecten van maken. De class op zichzelf doet niks. Je moet er objecten van maken en die zie je vervolgens in je spel. Daarom zou je nu dus heel makkelijk meerdere honden kunnen maken. Je kan het zien als een blueprint."
      ]
    },
    {
      "cell_type": "code",
      "execution_count": null,
      "metadata": {},
      "outputs": [],
      "source": [
        "# Maak een nieuwe hond\n",
        "mijn_hond = Hond(\"Buddy\", 3)\n",
        "\n",
        "# Toegang tot attributen\n",
        "print(mijn_hond.naam)      # Output: Buddy\n",
        "print(mijn_hond.leeftijd)  # Output: 3\n",
        "\n",
        "# Aanroepen van een methode\n",
        "mijn_hond.blaf()           # Output: Buddy zegt: Woef!"
      ]
    },
    {
      "cell_type": "markdown",
      "metadata": {},
      "source": [
        "## Oefeningen"
      ]
    },
    {
      "cell_type": "markdown",
      "metadata": {},
      "source": [
        "### Oefening 1: Maak een class `Auto`\n",
        "\n",
        "1. **Maak een class** genaamd `Auto`.\n",
        "2. **Voeg de volgende attributen toe**:\n",
        "   - `merk`\n",
        "   - `model`\n",
        "   - `jaar`\n",
        "3. **Voeg een methode** toe genaamd `start` die print: \"De [merk] [model] start.\""
      ]
    },
    {
      "cell_type": "code",
      "execution_count": null,
      "id": "8043badf",
      "metadata": {},
      "outputs": [],
      "source": [
        "# Jouw code hier"
      ]
    },
    {
      "cell_type": "markdown",
      "metadata": {},
      "source": [
        "### Oefening 2: Class `Spelkarakter`\n",
        "\n",
        "Denk aan een simpel spel in Pygame. Hoewel we geen Pygame-code gebruiken, kun je het concept van een spelkarakter modelleren.\n",
        "\n",
        "1. **Maak een class** genaamd `Spelkarakter`.\n",
        "2. **Voeg de volgende attributen toe**:\n",
        "   - `naam`\n",
        "   - `levens`\n",
        "   - `positie` (bijvoorbeeld een tuple zoals (x, y))\n",
        "3. **Voeg de volgende methoden toe**:\n",
        "   - `beweeg(nieuwe_positie)` - Verandert de positie van het karakter.\n",
        "   - `verlies_levens(aantal)` - Vermindert het aantal levens."
      ]
    },
    {
      "cell_type": "code",
      "execution_count": null,
      "id": "d8258446",
      "metadata": {},
      "outputs": [],
      "source": []
    },
    {
      "cell_type": "markdown",
      "metadata": {},
      "source": [
        "### Oefening 3: Algemene Class Verklaring\n",
        "\n",
        "Beantwoord de volgende vragen:\n",
        "\n",
        "1. **Wat is het verschil tussen een **class** en een **object**?\n",
        "2. **Waarom is het handig om methoden binnen een class te hebben in plaats van losse functies?**"
      ]
    },
    {
      "cell_type": "markdown",
      "id": "2dad369b",
      "metadata": {},
      "source": [
        "1. \n",
        "2. "
      ]
    },
    {
      "cell_type": "markdown",
      "metadata": {},
      "source": [
        "## Toepassing in Pygame\n",
        "\n",
        "Hoewel we hier geen Pygame gebruiken, kun je classes in Pygame gebruiken om verschillende elementen van je spel te modelleren, zoals:\n",
        "\n",
        "- **Spelkarakters:** Hun eigenschappen en gedragingen.\n",
        "- **Objecten:** Zoals munten, obstakels, enz.\n",
        "- **Spelstatus:** Zoals score, niveau, enz.\n",
        "\n",
        "Door classes te gebruiken, kun je elk van deze elementen op een georganiseerde en herbruikbare manier beheren.\n",
        "\n",
        "Volgende keer gaan we verder met het leren over classes!"
      ]
    }
  ],
  "metadata": {
    "kernelspec": {
      "display_name": "Python 3",
      "language": "python",
      "name": "python3"
    },
    "language_info": {
      "codemirror_mode": {
        "name": "ipython",
        "version": 3
      },
      "file_extension": ".py",
      "mimetype": "text/x-python",
      "name": "python",
      "nbconvert_exporter": "python",
      "pygments_lexer": "ipython3",
      "version": "3.8.5"
    }
  },
  "nbformat": 4,
  "nbformat_minor": 5
}
